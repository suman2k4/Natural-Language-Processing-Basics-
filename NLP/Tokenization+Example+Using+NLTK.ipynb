{
 "cells": [
  {
   "cell_type": "code",
   "execution_count": 1,
   "metadata": {},
   "outputs": [
    {
     "name": "stdout",
     "output_type": "stream",
     "text": [
      "Defaulting to user installation because normal site-packages is not writeable\n",
      "Requirement already satisfied: nltk in c:\\users\\hp\\appdata\\roaming\\python\\python312\\site-packages (3.9.1)\n",
      "Requirement already satisfied: click in c:\\users\\hp\\appdata\\roaming\\python\\python312\\site-packages (from nltk) (8.1.7)\n",
      "Requirement already satisfied: joblib in c:\\users\\hp\\appdata\\roaming\\python\\python312\\site-packages (from nltk) (1.4.2)\n",
      "Requirement already satisfied: regex>=2021.8.3 in c:\\users\\hp\\appdata\\roaming\\python\\python312\\site-packages (from nltk) (2024.11.6)\n",
      "Requirement already satisfied: tqdm in c:\\users\\hp\\appdata\\roaming\\python\\python312\\site-packages (from nltk) (4.67.1)\n",
      "Requirement already satisfied: colorama in c:\\users\\hp\\appdata\\roaming\\python\\python312\\site-packages (from click->nltk) (0.4.6)\n"
     ]
    }
   ],
   "source": [
    "!pip install nltk"
   ]
  },
  {
   "cell_type": "code",
   "execution_count": 2,
   "metadata": {},
   "outputs": [],
   "source": [
    "corpus=\"\"\"My name is Suman, and I am an AI student deeply passionate about machine learning and natural language processing.\n",
    "I love building innovative projects, especially those involving chatbots, speech recognition, and predictive models.\n",
    "Recently, I’ve been working on a YouTube summarizer and a supply chain forecasting tool.\n",
    "I enjoy collaborating with my friends on tech ideas and dream of starting a successful AI company one day.\"\"\""
   ]
  },
  {
   "cell_type": "code",
   "execution_count": 3,
   "metadata": {},
   "outputs": [
    {
     "name": "stdout",
     "output_type": "stream",
     "text": [
      "My name is Suman, and I am an AI student deeply passionate about machine learning and natural language processing.\n",
      "I love building innovative projects, especially those involving chatbots, speech recognition, and predictive models.\n",
      "Recently, I’ve been working on a YouTube summarizer and a supply chain forecasting tool.\n",
      "I enjoy collaborating with my friends on tech ideas and dream of starting a successful AI company one day.\n"
     ]
    }
   ],
   "source": [
    "print(corpus)"
   ]
  },
  {
   "cell_type": "code",
   "execution_count": 4,
   "metadata": {},
   "outputs": [],
   "source": [
    "##  Tokenization\n",
    "## Sentence-->paragraphs\n",
    "from nltk.tokenize import sent_tokenize"
   ]
  },
  {
   "cell_type": "code",
   "execution_count": 5,
   "metadata": {},
   "outputs": [],
   "source": [
    "documents=sent_tokenize(corpus)"
   ]
  },
  {
   "cell_type": "code",
   "execution_count": 6,
   "metadata": {},
   "outputs": [
    {
     "data": {
      "text/plain": [
       "list"
      ]
     },
     "execution_count": 6,
     "metadata": {},
     "output_type": "execute_result"
    }
   ],
   "source": [
    "type(documents)"
   ]
  },
  {
   "cell_type": "code",
   "execution_count": 7,
   "metadata": {},
   "outputs": [
    {
     "name": "stdout",
     "output_type": "stream",
     "text": [
      "My name is Suman, and I am an AI student deeply passionate about machine learning and natural language processing.\n",
      "I love building innovative projects, especially those involving chatbots, speech recognition, and predictive models.\n",
      "Recently, I’ve been working on a YouTube summarizer and a supply chain forecasting tool.\n",
      "I enjoy collaborating with my friends on tech ideas and dream of starting a successful AI company one day.\n"
     ]
    }
   ],
   "source": [
    "for sentence in documents:\n",
    "    print(sentence)"
   ]
  },
  {
   "cell_type": "code",
   "execution_count": 8,
   "metadata": {},
   "outputs": [],
   "source": [
    "## Tokenization \n",
    "## Paragraph-->words\n",
    "## sentence--->words\n",
    "from nltk.tokenize import word_tokenize"
   ]
  },
  {
   "cell_type": "code",
   "execution_count": 9,
   "metadata": {},
   "outputs": [
    {
     "data": {
      "text/plain": [
       "['My',\n",
       " 'name',\n",
       " 'is',\n",
       " 'Suman',\n",
       " ',',\n",
       " 'and',\n",
       " 'I',\n",
       " 'am',\n",
       " 'an',\n",
       " 'AI',\n",
       " 'student',\n",
       " 'deeply',\n",
       " 'passionate',\n",
       " 'about',\n",
       " 'machine',\n",
       " 'learning',\n",
       " 'and',\n",
       " 'natural',\n",
       " 'language',\n",
       " 'processing',\n",
       " '.',\n",
       " 'I',\n",
       " 'love',\n",
       " 'building',\n",
       " 'innovative',\n",
       " 'projects',\n",
       " ',',\n",
       " 'especially',\n",
       " 'those',\n",
       " 'involving',\n",
       " 'chatbots',\n",
       " ',',\n",
       " 'speech',\n",
       " 'recognition',\n",
       " ',',\n",
       " 'and',\n",
       " 'predictive',\n",
       " 'models',\n",
       " '.',\n",
       " 'Recently',\n",
       " ',',\n",
       " 'I',\n",
       " '’',\n",
       " 've',\n",
       " 'been',\n",
       " 'working',\n",
       " 'on',\n",
       " 'a',\n",
       " 'YouTube',\n",
       " 'summarizer',\n",
       " 'and',\n",
       " 'a',\n",
       " 'supply',\n",
       " 'chain',\n",
       " 'forecasting',\n",
       " 'tool',\n",
       " '.',\n",
       " 'I',\n",
       " 'enjoy',\n",
       " 'collaborating',\n",
       " 'with',\n",
       " 'my',\n",
       " 'friends',\n",
       " 'on',\n",
       " 'tech',\n",
       " 'ideas',\n",
       " 'and',\n",
       " 'dream',\n",
       " 'of',\n",
       " 'starting',\n",
       " 'a',\n",
       " 'successful',\n",
       " 'AI',\n",
       " 'company',\n",
       " 'one',\n",
       " 'day',\n",
       " '.']"
      ]
     },
     "execution_count": 9,
     "metadata": {},
     "output_type": "execute_result"
    }
   ],
   "source": [
    "word_tokenize(corpus)"
   ]
  },
  {
   "cell_type": "code",
   "execution_count": 10,
   "metadata": {},
   "outputs": [
    {
     "name": "stdout",
     "output_type": "stream",
     "text": [
      "['My', 'name', 'is', 'Suman', ',', 'and', 'I', 'am', 'an', 'AI', 'student', 'deeply', 'passionate', 'about', 'machine', 'learning', 'and', 'natural', 'language', 'processing', '.']\n",
      "['I', 'love', 'building', 'innovative', 'projects', ',', 'especially', 'those', 'involving', 'chatbots', ',', 'speech', 'recognition', ',', 'and', 'predictive', 'models', '.']\n",
      "['Recently', ',', 'I', '’', 've', 'been', 'working', 'on', 'a', 'YouTube', 'summarizer', 'and', 'a', 'supply', 'chain', 'forecasting', 'tool', '.']\n",
      "['I', 'enjoy', 'collaborating', 'with', 'my', 'friends', 'on', 'tech', 'ideas', 'and', 'dream', 'of', 'starting', 'a', 'successful', 'AI', 'company', 'one', 'day', '.']\n"
     ]
    }
   ],
   "source": [
    "for sentence in documents:\n",
    "    print(word_tokenize(sentence))"
   ]
  },
  {
   "cell_type": "code",
   "execution_count": 11,
   "metadata": {},
   "outputs": [],
   "source": [
    "from nltk.tokenize import wordpunct_tokenize"
   ]
  },
  {
   "cell_type": "code",
   "execution_count": 12,
   "metadata": {},
   "outputs": [
    {
     "data": {
      "text/plain": [
       "['My',\n",
       " 'name',\n",
       " 'is',\n",
       " 'Suman',\n",
       " ',',\n",
       " 'and',\n",
       " 'I',\n",
       " 'am',\n",
       " 'an',\n",
       " 'AI',\n",
       " 'student',\n",
       " 'deeply',\n",
       " 'passionate',\n",
       " 'about',\n",
       " 'machine',\n",
       " 'learning',\n",
       " 'and',\n",
       " 'natural',\n",
       " 'language',\n",
       " 'processing',\n",
       " '.',\n",
       " 'I',\n",
       " 'love',\n",
       " 'building',\n",
       " 'innovative',\n",
       " 'projects',\n",
       " ',',\n",
       " 'especially',\n",
       " 'those',\n",
       " 'involving',\n",
       " 'chatbots',\n",
       " ',',\n",
       " 'speech',\n",
       " 'recognition',\n",
       " ',',\n",
       " 'and',\n",
       " 'predictive',\n",
       " 'models',\n",
       " '.',\n",
       " 'Recently',\n",
       " ',',\n",
       " 'I',\n",
       " '’',\n",
       " 've',\n",
       " 'been',\n",
       " 'working',\n",
       " 'on',\n",
       " 'a',\n",
       " 'YouTube',\n",
       " 'summarizer',\n",
       " 'and',\n",
       " 'a',\n",
       " 'supply',\n",
       " 'chain',\n",
       " 'forecasting',\n",
       " 'tool',\n",
       " '.',\n",
       " 'I',\n",
       " 'enjoy',\n",
       " 'collaborating',\n",
       " 'with',\n",
       " 'my',\n",
       " 'friends',\n",
       " 'on',\n",
       " 'tech',\n",
       " 'ideas',\n",
       " 'and',\n",
       " 'dream',\n",
       " 'of',\n",
       " 'starting',\n",
       " 'a',\n",
       " 'successful',\n",
       " 'AI',\n",
       " 'company',\n",
       " 'one',\n",
       " 'day',\n",
       " '.']"
      ]
     },
     "execution_count": 12,
     "metadata": {},
     "output_type": "execute_result"
    }
   ],
   "source": [
    "wordpunct_tokenize(corpus)"
   ]
  },
  {
   "cell_type": "code",
   "execution_count": 13,
   "metadata": {},
   "outputs": [],
   "source": [
    "from nltk.tokenize import TreebankWordTokenizer"
   ]
  },
  {
   "cell_type": "code",
   "execution_count": 14,
   "metadata": {},
   "outputs": [],
   "source": [
    "tokenizer=TreebankWordTokenizer()"
   ]
  },
  {
   "cell_type": "code",
   "execution_count": 15,
   "metadata": {},
   "outputs": [
    {
     "data": {
      "text/plain": [
       "['My',\n",
       " 'name',\n",
       " 'is',\n",
       " 'Suman',\n",
       " ',',\n",
       " 'and',\n",
       " 'I',\n",
       " 'am',\n",
       " 'an',\n",
       " 'AI',\n",
       " 'student',\n",
       " 'deeply',\n",
       " 'passionate',\n",
       " 'about',\n",
       " 'machine',\n",
       " 'learning',\n",
       " 'and',\n",
       " 'natural',\n",
       " 'language',\n",
       " 'processing.',\n",
       " 'I',\n",
       " 'love',\n",
       " 'building',\n",
       " 'innovative',\n",
       " 'projects',\n",
       " ',',\n",
       " 'especially',\n",
       " 'those',\n",
       " 'involving',\n",
       " 'chatbots',\n",
       " ',',\n",
       " 'speech',\n",
       " 'recognition',\n",
       " ',',\n",
       " 'and',\n",
       " 'predictive',\n",
       " 'models.',\n",
       " 'Recently',\n",
       " ',',\n",
       " 'I’ve',\n",
       " 'been',\n",
       " 'working',\n",
       " 'on',\n",
       " 'a',\n",
       " 'YouTube',\n",
       " 'summarizer',\n",
       " 'and',\n",
       " 'a',\n",
       " 'supply',\n",
       " 'chain',\n",
       " 'forecasting',\n",
       " 'tool.',\n",
       " 'I',\n",
       " 'enjoy',\n",
       " 'collaborating',\n",
       " 'with',\n",
       " 'my',\n",
       " 'friends',\n",
       " 'on',\n",
       " 'tech',\n",
       " 'ideas',\n",
       " 'and',\n",
       " 'dream',\n",
       " 'of',\n",
       " 'starting',\n",
       " 'a',\n",
       " 'successful',\n",
       " 'AI',\n",
       " 'company',\n",
       " 'one',\n",
       " 'day',\n",
       " '.']"
      ]
     },
     "execution_count": 15,
     "metadata": {},
     "output_type": "execute_result"
    }
   ],
   "source": [
    "tokenizer.tokenize(corpus)"
   ]
  }
 ],
 "metadata": {
  "kernelspec": {
   "display_name": "Python 3",
   "language": "python",
   "name": "python3"
  },
  "language_info": {
   "codemirror_mode": {
    "name": "ipython",
    "version": 3
   },
   "file_extension": ".py",
   "mimetype": "text/x-python",
   "name": "python",
   "nbconvert_exporter": "python",
   "pygments_lexer": "ipython3",
   "version": "3.12.5"
  }
 },
 "nbformat": 4,
 "nbformat_minor": 4
}
